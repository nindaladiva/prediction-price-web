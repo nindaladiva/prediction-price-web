{
 "cells": [
  {
   "cell_type": "code",
   "execution_count": 11,
   "metadata": {},
   "outputs": [
    {
     "name": "stdout",
     "output_type": "stream",
     "text": [
      "Collecting scikit-learn\n",
      "  Downloading scikit_learn-1.0.2-cp310-cp310-win_amd64.whl (7.2 MB)\n",
      "Collecting scipy\n",
      "  Downloading scipy-1.7.3-cp310-cp310-win_amd64.whl (34.3 MB)\n",
      "Collecting matplotlib\n",
      "  Downloading matplotlib-3.5.1-cp310-cp310-win_amd64.whl (7.2 MB)\n",
      "Collecting threadpoolctl>=2.0.0\n",
      "  Downloading threadpoolctl-3.0.0-py3-none-any.whl (14 kB)\n",
      "Requirement already satisfied: numpy>=1.14.6 in c:\\users\\asus\\appdata\\local\\programs\\python\\python310\\lib\\site-packages (from scikit-learn) (1.21.4)\n",
      "Requirement already satisfied: joblib>=0.11 in c:\\users\\asus\\appdata\\local\\programs\\python\\python310\\lib\\site-packages (from scikit-learn) (1.1.0)\n",
      "Requirement already satisfied: python-dateutil>=2.7 in c:\\users\\asus\\appdata\\local\\programs\\python\\python310\\lib\\site-packages (from matplotlib) (2.8.2)\n",
      "Collecting fonttools>=4.22.0\n",
      "  Downloading fonttools-4.28.5-py3-none-any.whl (890 kB)\n",
      "Collecting cycler>=0.10\n",
      "  Downloading cycler-0.11.0-py3-none-any.whl (6.4 kB)\n",
      "Collecting kiwisolver>=1.0.1\n",
      "  Downloading kiwisolver-1.3.2-cp310-cp310-win_amd64.whl (52 kB)\n",
      "Collecting pyparsing>=2.2.1\n",
      "  Downloading pyparsing-3.0.6-py3-none-any.whl (97 kB)\n",
      "Collecting packaging>=20.0\n",
      "  Downloading packaging-21.3-py3-none-any.whl (40 kB)\n",
      "Collecting pillow>=6.2.0\n",
      "  Downloading Pillow-9.0.0-cp310-cp310-win_amd64.whl (3.2 MB)\n",
      "Requirement already satisfied: six>=1.5 in c:\\users\\asus\\appdata\\local\\programs\\python\\python310\\lib\\site-packages (from python-dateutil>=2.7->matplotlib) (1.16.0)\n",
      "Installing collected packages: pyparsing, threadpoolctl, scipy, pillow, packaging, kiwisolver, fonttools, cycler, scikit-learn, matplotlib\n",
      "Successfully installed cycler-0.11.0 fonttools-4.28.5 kiwisolver-1.3.2 matplotlib-3.5.1 packaging-21.3 pillow-9.0.0 pyparsing-3.0.6 scikit-learn-1.0.2 scipy-1.7.3 threadpoolctl-3.0.0\n",
      "Note: you may need to restart the kernel to use updated packages.\n"
     ]
    },
    {
     "name": "stderr",
     "output_type": "stream",
     "text": [
      "WARNING: You are using pip version 21.2.4; however, version 21.3.1 is available.\n",
      "You should consider upgrading via the 'C:\\Users\\asus\\AppData\\Local\\Programs\\Python\\Python310\\python.exe -m pip install --upgrade pip' command.\n"
     ]
    }
   ],
   "source": [
    "pip install -U scikit-learn scipy matplotlib"
   ]
  },
  {
   "cell_type": "code",
   "execution_count": 1,
   "metadata": {},
   "outputs": [],
   "source": [
    "#Aktifkan Package\n",
    "import pandas as pd\n",
    "import numpy as np"
   ]
  },
  {
   "cell_type": "code",
   "execution_count": 2,
   "metadata": {},
   "outputs": [
    {
     "data": {
      "text/html": [
       "<div>\n",
       "<style scoped>\n",
       "    .dataframe tbody tr th:only-of-type {\n",
       "        vertical-align: middle;\n",
       "    }\n",
       "\n",
       "    .dataframe tbody tr th {\n",
       "        vertical-align: top;\n",
       "    }\n",
       "\n",
       "    .dataframe thead th {\n",
       "        text-align: right;\n",
       "    }\n",
       "</style>\n",
       "<table border=\"1\" class=\"dataframe\">\n",
       "  <thead>\n",
       "    <tr style=\"text-align: right;\">\n",
       "      <th></th>\n",
       "      <th>nama_kos</th>\n",
       "      <th>kecamatan</th>\n",
       "      <th>harga_sewa</th>\n",
       "      <th>k_kamar_mandi</th>\n",
       "      <th>WiFi</th>\n",
       "      <th>AC</th>\n",
       "      <th>akses_24_jam</th>\n",
       "    </tr>\n",
       "  </thead>\n",
       "  <tbody>\n",
       "    <tr>\n",
       "      <th>0</th>\n",
       "      <td>Kost Sekar Kedaton Ngaglik Yogyakarta RMZ</td>\n",
       "      <td>Ngaglik</td>\n",
       "      <td>1350000</td>\n",
       "      <td>K. Mandi Dalam</td>\n",
       "      <td>WiFi</td>\n",
       "      <td>AC</td>\n",
       "      <td>Akses 24 Jam</td>\n",
       "    </tr>\n",
       "    <tr>\n",
       "      <th>1</th>\n",
       "      <td>Kost Apik Jasmine Tipe E UII Yogyakarta</td>\n",
       "      <td>Ngaglik</td>\n",
       "      <td>957000</td>\n",
       "      <td>K. Mandi Dalam</td>\n",
       "      <td>WiFi</td>\n",
       "      <td>Tidak AC</td>\n",
       "      <td>Tidak Akses 24 Jam</td>\n",
       "    </tr>\n",
       "    <tr>\n",
       "      <th>2</th>\n",
       "      <td>Kost D'Panda House Ngemplak Sleman</td>\n",
       "      <td>Ngemplak</td>\n",
       "      <td>1500000</td>\n",
       "      <td>K. Mandi Dalam</td>\n",
       "      <td>WiFi</td>\n",
       "      <td>AC</td>\n",
       "      <td>Akses 24 Jam</td>\n",
       "    </tr>\n",
       "    <tr>\n",
       "      <th>3</th>\n",
       "      <td>Kost ARIZKA Ngaglik Sleman</td>\n",
       "      <td>Ngaglik</td>\n",
       "      <td>1200000</td>\n",
       "      <td>K. Mandi Dalam</td>\n",
       "      <td>WiFi</td>\n",
       "      <td>AC</td>\n",
       "      <td>Akses 24 Jam</td>\n",
       "    </tr>\n",
       "    <tr>\n",
       "      <th>4</th>\n",
       "      <td>Kost Kazoku Ngaglik Sleman</td>\n",
       "      <td>Ngaglik</td>\n",
       "      <td>850000</td>\n",
       "      <td>K. Mandi Dalam</td>\n",
       "      <td>WiFi</td>\n",
       "      <td>AC</td>\n",
       "      <td>Akses 24 Jam</td>\n",
       "    </tr>\n",
       "  </tbody>\n",
       "</table>\n",
       "</div>"
      ],
      "text/plain": [
       "                                    nama_kos kecamatan  harga_sewa  \\\n",
       "0  Kost Sekar Kedaton Ngaglik Yogyakarta RMZ   Ngaglik     1350000   \n",
       "1    Kost Apik Jasmine Tipe E UII Yogyakarta   Ngaglik      957000   \n",
       "2         Kost D'Panda House Ngemplak Sleman  Ngemplak     1500000   \n",
       "3                 Kost ARIZKA Ngaglik Sleman   Ngaglik     1200000   \n",
       "4                 Kost Kazoku Ngaglik Sleman   Ngaglik      850000   \n",
       "\n",
       "    k_kamar_mandi  WiFi        AC        akses_24_jam  \n",
       "0  K. Mandi Dalam  WiFi        AC        Akses 24 Jam  \n",
       "1  K. Mandi Dalam  WiFi  Tidak AC  Tidak Akses 24 Jam  \n",
       "2  K. Mandi Dalam  WiFi        AC        Akses 24 Jam  \n",
       "3  K. Mandi Dalam  WiFi        AC        Akses 24 Jam  \n",
       "4  K. Mandi Dalam  WiFi        AC        Akses 24 Jam  "
      ]
     },
     "execution_count": 2,
     "metadata": {},
     "output_type": "execute_result"
    }
   ],
   "source": [
    "#Input Data\n",
    "dataset = pd.read_csv('data biml.csv',sep=\",\")\n",
    "dataset.head()"
   ]
  },
  {
   "cell_type": "code",
   "execution_count": 3,
   "metadata": {},
   "outputs": [
    {
     "name": "stdout",
     "output_type": "stream",
     "text": [
      "{'kecamatan': {'Ngaglik': 0, 'Ngemplak': 1}, 'k_kamar_mandi': {'K. Mandi Dalam': 0, 'K. Mandi Luar': 1}, 'WiFi': {'Tidak Ada WiFi': 0, 'WiFi': 1}, 'AC': {'AC': 0, 'Tidak AC': 1}, 'akses_24_jam': {'Akses 24 Jam': 0, 'Tidak Akses 24 Jam': 1}}\n"
     ]
    }
   ],
   "source": [
    "#Label encoder\n",
    "from sklearn import preprocessing\n",
    "category_col =['kecamatan', 'k_kamar_mandi',\n",
    "'WiFi', 'AC', 'akses_24_jam']\n",
    "labelEncoder = preprocessing.LabelEncoder()\n",
    "\n",
    "#Daftar Kategorik\n",
    "mapping_dict={}\n",
    "for col in category_col:\n",
    "    dataset[col] = labelEncoder.fit_transform(dataset[col])\n",
    "    le_name_mapping = dict(zip(labelEncoder.classes_,\n",
    "labelEncoder.transform(labelEncoder.classes_)))\n",
    "    mapping_dict[col]=le_name_mapping\n",
    "print(mapping_dict)"
   ]
  },
  {
   "cell_type": "code",
   "execution_count": 4,
   "metadata": {},
   "outputs": [
    {
     "data": {
      "text/html": [
       "<div>\n",
       "<style scoped>\n",
       "    .dataframe tbody tr th:only-of-type {\n",
       "        vertical-align: middle;\n",
       "    }\n",
       "\n",
       "    .dataframe tbody tr th {\n",
       "        vertical-align: top;\n",
       "    }\n",
       "\n",
       "    .dataframe thead th {\n",
       "        text-align: right;\n",
       "    }\n",
       "</style>\n",
       "<table border=\"1\" class=\"dataframe\">\n",
       "  <thead>\n",
       "    <tr style=\"text-align: right;\">\n",
       "      <th></th>\n",
       "      <th>kecamatan</th>\n",
       "      <th>k_kamar_mandi</th>\n",
       "      <th>WiFi</th>\n",
       "      <th>AC</th>\n",
       "      <th>akses_24_jam</th>\n",
       "    </tr>\n",
       "  </thead>\n",
       "  <tbody>\n",
       "    <tr>\n",
       "      <th>0</th>\n",
       "      <td>0</td>\n",
       "      <td>0</td>\n",
       "      <td>1</td>\n",
       "      <td>0</td>\n",
       "      <td>0</td>\n",
       "    </tr>\n",
       "    <tr>\n",
       "      <th>1</th>\n",
       "      <td>0</td>\n",
       "      <td>0</td>\n",
       "      <td>1</td>\n",
       "      <td>1</td>\n",
       "      <td>1</td>\n",
       "    </tr>\n",
       "    <tr>\n",
       "      <th>2</th>\n",
       "      <td>1</td>\n",
       "      <td>0</td>\n",
       "      <td>1</td>\n",
       "      <td>0</td>\n",
       "      <td>0</td>\n",
       "    </tr>\n",
       "    <tr>\n",
       "      <th>3</th>\n",
       "      <td>0</td>\n",
       "      <td>0</td>\n",
       "      <td>1</td>\n",
       "      <td>0</td>\n",
       "      <td>0</td>\n",
       "    </tr>\n",
       "    <tr>\n",
       "      <th>4</th>\n",
       "      <td>0</td>\n",
       "      <td>0</td>\n",
       "      <td>1</td>\n",
       "      <td>0</td>\n",
       "      <td>0</td>\n",
       "    </tr>\n",
       "  </tbody>\n",
       "</table>\n",
       "</div>"
      ],
      "text/plain": [
       "   kecamatan  k_kamar_mandi  WiFi  AC  akses_24_jam\n",
       "0          0              0     1   0             0\n",
       "1          0              0     1   1             1\n",
       "2          1              0     1   0             0\n",
       "3          0              0     1   0             0\n",
       "4          0              0     1   0             0"
      ]
     },
     "execution_count": 4,
     "metadata": {},
     "output_type": "execute_result"
    }
   ],
   "source": [
    "#Variabel Independen\n",
    "X = dataset.drop([\"nama_kos\",\"harga_sewa\"], axis=1)\n",
    "X.head()"
   ]
  },
  {
   "cell_type": "code",
   "execution_count": 5,
   "metadata": {},
   "outputs": [
    {
     "data": {
      "text/plain": [
       "0    1350000\n",
       "1     957000\n",
       "2    1500000\n",
       "3    1200000\n",
       "4     850000\n",
       "Name: harga_sewa, dtype: int64"
      ]
     },
     "execution_count": 5,
     "metadata": {},
     "output_type": "execute_result"
    }
   ],
   "source": [
    "#Variabel Dependen\n",
    "y=dataset[\"harga_sewa\"]\n",
    "y.head()"
   ]
  },
  {
   "cell_type": "code",
   "execution_count": 6,
   "metadata": {},
   "outputs": [],
   "source": [
    "#DataTesting dan Training\n",
    "from sklearn.model_selection import train_test_split\n",
    "X_train, X_test, y_train, y_test = train_test_split(X, y,\n",
    "test_size=0.2, random_state=1234)"
   ]
  },
  {
   "cell_type": "code",
   "execution_count": 7,
   "metadata": {},
   "outputs": [
    {
     "name": "stdout",
     "output_type": "stream",
     "text": [
      "(48, 5)\n",
      "(12, 5)\n"
     ]
    }
   ],
   "source": [
    "#Proporsi Data Testing dan Training\n",
    "print(X_train.shape)\n",
    "print(X_test.shape)\n",
    "\n",
    "from sklearn.ensemble import RandomForestRegressor\n",
    "regressor = RandomForestRegressor(n_estimators=7,\n",
    "random_state=1234)\n",
    "\n",
    "regressor.fit(X_test, y_test)\n",
    "y_pred=regressor.predict(X_test)"
   ]
  },
  {
   "cell_type": "code",
   "execution_count": 8,
   "metadata": {},
   "outputs": [
    {
     "data": {
      "text/plain": [
       "0.5404589376733724"
      ]
     },
     "execution_count": 8,
     "metadata": {},
     "output_type": "execute_result"
    }
   ],
   "source": [
    "#Nilai Koefiisien Determinasi Data Testing\n",
    "from sklearn.metrics import r2_score\n",
    "r2_score(y_test, y_pred)\n",
    "y_pred2=regressor.predict(X_train)\n",
    "r2_score(y_train, y_pred2)"
   ]
  },
  {
   "cell_type": "code",
   "execution_count": 9,
   "metadata": {},
   "outputs": [
    {
     "data": {
      "text/plain": [
       "0.5404589376733724"
      ]
     },
     "execution_count": 9,
     "metadata": {},
     "output_type": "execute_result"
    }
   ],
   "source": [
    "#Nilai Koefiisien Determinasi Data Training\n",
    "from sklearn.metrics import r2_score\n",
    "r2_score(y_test, y_pred)\n",
    "y_pred2=regressor.predict(X_train)\n",
    "r2_score(y_train, y_pred2)"
   ]
  },
  {
   "cell_type": "code",
   "execution_count": 10,
   "metadata": {},
   "outputs": [
    {
     "name": "stdout",
     "output_type": "stream",
     "text": [
      "Mean Absolute Error: 55793.65079365079\n",
      "Mean Squared Error: 6209252173.09146\n",
      "Root Mean Squared Error: 78798.80819588238\n",
      "MAPE : 7.4211104734564115\n",
      "Nilai akurasi : 92.57888952654358\n"
     ]
    }
   ],
   "source": [
    "#Perhitungan Akurasi\n",
    "from sklearn import metrics\n",
    "print('Mean Absolute Error:', metrics.mean_absolute_error(y_test,\n",
    "y_pred))\n",
    "print('Mean Squared Error:', metrics.mean_squared_error(y_test,\n",
    "y_pred))\n",
    "print('Root Mean Squared Error:',\n",
    "np.sqrt(metrics.mean_squared_error(y_test, y_pred)))\n",
    "print('MAPE :', np.mean(np.abs((y_test - y_pred) / y_test))*100)\n",
    "print ('Nilai akurasi :', (1-(np.mean(np.abs((y_test - y_pred) /\n",
    "y_test))))*100)"
   ]
  },
  {
   "cell_type": "code",
   "execution_count": 11,
   "metadata": {},
   "outputs": [],
   "source": [
    "import matplotlib.pyplot as plt"
   ]
  },
  {
   "cell_type": "code",
   "execution_count": 12,
   "metadata": {},
   "outputs": [
    {
     "data": {
      "image/png": "[encoded data removed]",
      "text/plain": [
       "<Figure size 432x288 with 1 Axes>"
      ]
     },
     "metadata": {
      "needs_background": "light"
     },
     "output_type": "display_data"
    }
   ],
   "source": [
    "#Plot Perbandingan Nilai Aktual dan Prediksi\n",
    "plt.plot(y, label=\"Data aktual\",color=\"yellow\")\n",
    "plt.plot(y_pred2, label=\"Data prediksi\")\n",
    "plt.ylabel('Harga Sewa Kost')\n",
    "plt.show()"
   ]
  },
  {
   "cell_type": "code",
   "execution_count": 13,
   "metadata": {},
   "outputs": [
    {
     "name": "stdout",
     "output_type": "stream",
     "text": [
      "         feature  importance\n",
      "0      kecamatan    0.030548\n",
      "1  k_kamar_mandi    0.017865\n",
      "2           WiFi    0.000000\n",
      "3             AC    0.924033\n",
      "4   akses_24_jam    0.027555\n"
     ]
    },
    {
     "data": {
      "image/png": "[encoded data removed]",
      "text/plain": [
       "<Figure size 432x288 with 1 Axes>"
      ]
     },
     "metadata": {
      "needs_background": "light"
     },
     "output_type": "display_data"
    }
   ],
   "source": [
    "#Feature Importance\n",
    "# Feature importances into a dataframe\n",
    "features = list(X_train.columns)\n",
    "feature_importances = pd.DataFrame({'feature': features,\n",
    "'importance': regressor.feature_importances_})\n",
    "feature_importances .plot(x ='feature', y='importance', kind =\n",
    "'barh', color=\"lime\")\n",
    "print(feature_importances)"
   ]
  },
  {
   "cell_type": "code",
   "execution_count": 18,
   "metadata": {},
   "outputs": [
    {
     "name": "stdout",
     "output_type": "stream",
     "text": [
      "[1365357.14285714]\n"
     ]
    },
    {
     "name": "stderr",
     "output_type": "stream",
     "text": [
      "C:\\Users\\asus\\AppData\\Local\\Programs\\Python\\Python310\\lib\\site-packages\\sklearn\\base.py:450: UserWarning: X does not have valid feature names, but RandomForestRegressor was fitted with feature names\n",
      "  warnings.warn(\n"
     ]
    }
   ],
   "source": [
    "#Save Model\n",
    "import pickle\n",
    "pickle.dump(regressor, open('model.pkl','wb'))\n",
    "model = pickle.load(open('model.pkl','rb'))\n",
    "print(model.predict([[1,0,1,0,0]]))"
   ]
  },
  {
   "cell_type": "code",
   "execution_count": 15,
   "metadata": {},
   "outputs": [
    {
     "name": "stdout",
     "output_type": "stream",
     "text": [
      "RandomForestRegressor(n_estimators=7, random_state=1234)\n"
     ]
    }
   ],
   "source": [
    "print(model)"
   ]
  }
 ],
 "metadata": {
  "interpreter": {
   "hash": "1e649b193d03f972cce0fc4f5c57764441ad8ceea30bfcf30b505dea29a3b4c0"
  },
  "kernelspec": {
   "display_name": "Python 3.10.1 64-bit",
   "language": "python",
   "name": "python3"
  },
  "language_info": {
   "codemirror_mode": {
    "name": "ipython",
    "version": 3
   },
   "file_extension": ".py",
   "mimetype": "text/x-python",
   "name": "python",
   "nbconvert_exporter": "python",
   "pygments_lexer": "ipython3",
   "version": "3.10.1"
  },
  "orig_nbformat": 4
 },
 "nbformat": 4,
 "nbformat_minor": 2
}
